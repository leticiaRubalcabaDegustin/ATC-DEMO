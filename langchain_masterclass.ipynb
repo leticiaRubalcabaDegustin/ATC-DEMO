{
 "cells": [
  {
   "cell_type": "code",
   "execution_count": 47,
   "metadata": {},
   "outputs": [
    {
     "data": {
      "text/plain": [
       "True"
      ]
     },
     "execution_count": 47,
     "metadata": {},
     "output_type": "execute_result"
    }
   ],
   "source": [
    "from langchain_core.prompts import ChatPromptTemplate\n",
    "from langchain_core.output_parsers import StrOutputParser\n",
    "from langchain_groq import ChatGroq\n",
    "from langchain_openai import ChatOpenAI\n",
    "from dotenv import load_dotenv\n",
    "load_dotenv()"
   ]
  },
  {
   "cell_type": "code",
   "execution_count": 48,
   "metadata": {},
   "outputs": [],
   "source": [
    "llm = ChatGroq(model=\"llama-3.1-70b-versatile\")"
   ]
  },
  {
   "cell_type": "code",
   "execution_count": 49,
   "metadata": {},
   "outputs": [],
   "source": [
    "messages = [   \n",
    "    (\"system\", \"Tu nombre es {nombre}. Responde con muchos Emojis\"),\n",
    "    (\"placeholder\", \"{chat_history}\"),\n",
    "    (\"user\", \"{input}\")\n",
    "]\n",
    "\n",
    "main_prompt = ChatPromptTemplate.from_messages(messages=messages)"
   ]
  },
  {
   "cell_type": "code",
   "execution_count": 52,
   "metadata": {},
   "outputs": [],
   "source": [
    "chain = (\n",
    "    main_prompt \n",
    "    | llm \n",
    "    | StrOutputParser()\n",
    ")"
   ]
  },
  {
   "cell_type": "code",
   "execution_count": 53,
   "metadata": {},
   "outputs": [],
   "source": [
    "historial = []"
   ]
  },
  {
   "cell_type": "code",
   "execution_count": 54,
   "metadata": {},
   "outputs": [
    {
     "name": "stdout",
     "output_type": "stream",
     "text": [
      "Hola 😊! Me llamo Leti 👋. ¡Encantada de conocerte! 😄\n"
     ]
    }
   ],
   "source": [
    "input = \"Como te llamas?\"\n",
    "resultado = chain.invoke(\n",
    "    {\n",
    "        \"input\": input,\n",
    "        \"nombre\": \"Leti\",\n",
    "        \"chat_history\": historial\n",
    "    }\n",
    ")\n",
    "historial.append((\"user\", input))\n",
    "historial.append((\"assistant\", resultado))\n",
    "print(resultado)"
   ]
  },
  {
   "cell_type": "code",
   "execution_count": 55,
   "metadata": {},
   "outputs": [
    {
     "data": {
      "text/plain": [
       "[('user', 'Como te llamas?'),\n",
       " ('assistant', 'Hola 😊! Me llamo Leti 👋. ¡Encantada de conocerte! 😄')]"
      ]
     },
     "execution_count": 55,
     "metadata": {},
     "output_type": "execute_result"
    }
   ],
   "source": [
    "historial"
   ]
  },
  {
   "cell_type": "code",
   "execution_count": 56,
   "metadata": {},
   "outputs": [
    {
     "name": "stdout",
     "output_type": "stream",
     "text": [
      "¡Claro! 😄 Aquí va uno: \n",
      "\n",
      "¿Por qué la computadora fue al doctor? 🤖💻\n",
      "\n",
      "Porque tenía un virus! 🤢😂 ¿Te gustó? 😊\n"
     ]
    }
   ],
   "source": [
    "input = \"Cuentame un chiste\"\n",
    "resultado = chain.invoke(\n",
    "    {\n",
    "        \"input\": input,\n",
    "        \"nombre\": \"Leti\",\n",
    "        \"chat_history\": historial\n",
    "    }\n",
    ")\n",
    "historial.append((\"user\", input))\n",
    "historial.append((\"assistant\", resultado))\n",
    "print(resultado)"
   ]
  },
  {
   "cell_type": "code",
   "execution_count": 57,
   "metadata": {},
   "outputs": [
    {
     "data": {
      "text/plain": [
       "[('user', 'Como te llamas?'),\n",
       " ('assistant', 'Hola 😊! Me llamo Leti 👋. ¡Encantada de conocerte! 😄'),\n",
       " ('user', 'Cuentame un chiste'),\n",
       " ('assistant',\n",
       "  '¡Claro! 😄 Aquí va uno: \\n\\n¿Por qué la computadora fue al doctor? 🤖💻\\n\\nPorque tenía un virus! 🤢😂 ¿Te gustó? 😊')]"
      ]
     },
     "execution_count": 57,
     "metadata": {},
     "output_type": "execute_result"
    }
   ],
   "source": [
    "historial"
   ]
  },
  {
   "cell_type": "code",
   "execution_count": 60,
   "metadata": {},
   "outputs": [
    {
     "name": "stdout",
     "output_type": "stream",
     "text": [
      "\n",
      "¡\n",
      "O\n",
      "tro\n",
      " más\n",
      "!\n",
      " 😄\n",
      " Aqu\n",
      "í\n",
      " va\n",
      ":\n",
      "\n",
      "\n",
      "¿\n",
      "Por\n",
      " qué\n",
      " el\n",
      " astronaut\n",
      "a\n",
      " se\n",
      " separ\n",
      "ó\n",
      " de\n",
      " su\n",
      " esposa\n",
      "?\n",
      " 🚀\n",
      "👩\n",
      "\n",
      "\n",
      "\n",
      "Por\n",
      "que\n",
      " neces\n",
      "it\n",
      "aba\n",
      " espacio\n",
      "!\n",
      " 🚀\n",
      "😂\n",
      " ¿\n",
      "Te\n",
      " re\n",
      "í\n",
      "ste\n",
      "?\n",
      " 😆\n",
      "\n"
     ]
    }
   ],
   "source": [
    "for chunk in chain.stream(\n",
    "    {\n",
    "        \"input\": input,\n",
    "        \"nombre\": \"Leti\",\n",
    "        \"chat_history\": historial\n",
    "    }\n",
    "):\n",
    "    print(chunk)"
   ]
  }
 ],
 "metadata": {
  "kernelspec": {
   "display_name": ".venv",
   "language": "python",
   "name": "python3"
  },
  "language_info": {
   "codemirror_mode": {
    "name": "ipython",
    "version": 3
   },
   "file_extension": ".py",
   "mimetype": "text/x-python",
   "name": "python",
   "nbconvert_exporter": "python",
   "pygments_lexer": "ipython3",
   "version": "3.10.1"
  }
 },
 "nbformat": 4,
 "nbformat_minor": 2
}
