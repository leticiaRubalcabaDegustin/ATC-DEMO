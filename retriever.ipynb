{
 "cells": [
  {
   "cell_type": "code",
   "execution_count": 27,
   "metadata": {},
   "outputs": [
    {
     "data": {
      "text/plain": [
       "True"
      ]
     },
     "execution_count": 27,
     "metadata": {},
     "output_type": "execute_result"
    }
   ],
   "source": [
    "from langchain_core.prompts import ChatPromptTemplate\n",
    "from langchain_core.output_parsers import StrOutputParser\n",
    "from langchain_groq import ChatGroq\n",
    "from langchain_community.embeddings import FastEmbedEmbeddings\n",
    "from langchain_chroma import Chroma\n",
    "from langchain_core.runnables import RunnablePassthrough\n",
    "import os\n",
    "from dotenv import load_dotenv\n",
    "load_dotenv()"
   ]
  },
  {
   "cell_type": "code",
   "execution_count": 7,
   "metadata": {},
   "outputs": [
    {
     "name": "stderr",
     "output_type": "stream",
     "text": [
      "Fetching 5 files: 100%|██████████| 5/5 [00:00<?, ?it/s]\n"
     ]
    },
    {
     "name": "stdout",
     "output_type": "stream",
     "text": [
      "Vector Store leído de index/mi_cv\n"
     ]
    }
   ],
   "source": [
    "index_path = \"index/mi_cv\"\n",
    "embeddings = FastEmbedEmbeddings()\n",
    "\n",
    "if os.path.exists(index_path):\n",
    "    vectorstore = Chroma(\n",
    "        embedding_function=embeddings,\n",
    "        persist_directory=index_path\n",
    "    )\n",
    "    print(f\"Vector Store leído de {index_path}\")"
   ]
  },
  {
   "cell_type": "code",
   "execution_count": 16,
   "metadata": {},
   "outputs": [],
   "source": [
    "retriever = vectorstore.as_retriever(\n",
    "    search_kwargs={\n",
    "        \"k\": 1\n",
    "    }\n",
    ")"
   ]
  },
  {
   "cell_type": "code",
   "execution_count": 2,
   "metadata": {},
   "outputs": [],
   "source": [
    "historial = []"
   ]
  },
  {
   "cell_type": "code",
   "execution_count": 3,
   "metadata": {},
   "outputs": [],
   "source": [
    "llm = ChatGroq(model=\"llama-3.1-70b-versatile\")"
   ]
  },
  {
   "cell_type": "code",
   "execution_count": 22,
   "metadata": {},
   "outputs": [],
   "source": [
    "messages = [   \n",
    "    (\"system\", \"Tu nombre es {nombre}. Responde con muchos Emojis la pregunta del usuario. Basada en la informacion: {retriever}\"),\n",
    "    (\"placeholder\", \"{chat_history}\"),\n",
    "    (\"user\", \"{input}\")\n",
    "]\n",
    "\n",
    "main_prompt = ChatPromptTemplate.from_messages(messages=messages)"
   ]
  },
  {
   "cell_type": "code",
   "execution_count": 30,
   "metadata": {},
   "outputs": [],
   "source": [
    "chain = (\n",
    "    {\"retriever\": retriever, \"nombre\": RunnablePassthrough(), \"input\": RunnablePassthrough()}\n",
    "    | main_prompt \n",
    "    | llm \n",
    "    | StrOutputParser()\n",
    ")"
   ]
  },
  {
   "cell_type": "code",
   "execution_count": 32,
   "metadata": {},
   "outputs": [
    {
     "name": "stdout",
     "output_type": "stream",
     "text": [
      "😊 ¡Hola de nuevo! 👋 El documento parece ser un currículum vitae (CV) de una persona llamada Leticia Rubalcaba. 📄 Aquí te presento algunos puntos destacados que he encontrado: 🤔\n",
      "\n",
      "📚 **Educación**: Leticia tiene un máster en Big Data y Business Analytics de la Universidad Complutense de Madrid (UCM) y es licenciada en Matemáticas y Ciencia de la Computación de la Universidad Politécnica de Madrid (UPM). 🎓\n",
      "\n",
      "💼 **Experiencia laboral**: Ha trabajado como Data Engineer en NTTDATA y como Asociada de Data y Análisis en PwC. 📊\n",
      "\n",
      "📈 **Habilidades**: Posee habilidades en tecnologías como Python, TypeScript, WebApp, LLM, IA generativa, OCR, Celonis, Jira, Jupyter, SQL, Power BI, entre otras. 🤖\n",
      "\n",
      "📊 **Proyectos**: Ha participado en proyectos de implementación de herramientas para el sistema fiscal español, optimización de la cadena de suministro, análisis de datos y procesos de negocio, entre otros. 📈\n",
      "\n",
      "📧 **Contacto**: Puedes contactar con ella a través de su correo electrónico o número de teléfono. 📲\n",
      "\n",
      "Espero que esta información te sea útil. 🤗 ¿Quieres saber algo más específico sobre el documento? 🤔\n"
     ]
    }
   ],
   "source": [
    "input = \"Que me puedes decir del documento\"\n",
    "resultado = chain.invoke(\n",
    "    {\n",
    "        \"input\": input,\n",
    "        \"nombre\": \"Leti\",\n",
    "        \"chat_history\": historial,\n",
    "    }\n",
    ")\n",
    "historial.append((\"user\", input))\n",
    "historial.append((\"assistant\", resultado))\n",
    "print(resultado)"
   ]
  },
  {
   "cell_type": "code",
   "execution_count": null,
   "metadata": {},
   "outputs": [],
   "source": []
  }
 ],
 "metadata": {
  "kernelspec": {
   "display_name": ".venv",
   "language": "python",
   "name": "python3"
  },
  "language_info": {
   "codemirror_mode": {
    "name": "ipython",
    "version": 3
   },
   "file_extension": ".py",
   "mimetype": "text/x-python",
   "name": "python",
   "nbconvert_exporter": "python",
   "pygments_lexer": "ipython3",
   "version": "3.10.1"
  }
 },
 "nbformat": 4,
 "nbformat_minor": 2
}
